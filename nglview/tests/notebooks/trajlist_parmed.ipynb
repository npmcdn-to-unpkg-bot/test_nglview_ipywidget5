{
 "cells": [
  {
   "cell_type": "code",
   "execution_count": 8,
   "metadata": {
    "collapsed": false
   },
   "outputs": [],
   "source": [
    "import parmed as pmd\n",
    "from pytraj.testing import get_fn\n",
    "import  nglview as nv\n",
    "\n",
    "fn, tn = get_fn('trpcage')\n",
    "parm0 = pmd.load_file(tn, fn)\n",
    "fn, tn = get_fn('tz2_dry')\n",
    "parm1 = pmd.load_file(tn, fn)\n",
    "\n",
    "trajlist = [nv.ParmEdTrajectory(parm) for parm in [parm0, parm1]]\n",
    "\n",
    "trajlist\n",
    "\n",
    "view = nv.NGLWidget(trajlist)\n",
    "view"
   ]
  },
  {
   "cell_type": "code",
   "execution_count": 9,
   "metadata": {
    "collapsed": true
   },
   "outputs": [],
   "source": [
    "view.frame = 1"
   ]
  },
  {
   "cell_type": "code",
   "execution_count": 10,
   "metadata": {
    "collapsed": false
   },
   "outputs": [
    {
     "data": {
      "text/plain": [
       "{0: array([[ -6.91900000e+00,   6.90100000e+00,   9.17000000e-01],\n",
       "        [ -7.68200000e+00,   6.02500000e+00,  -1.00000000e-02],\n",
       "        [ -6.84000000e+00,   4.88900000e+00,  -5.89000000e-01],\n",
       "        ..., \n",
       "        [  1.59300000e+00,   1.14500000e+01,   1.98500000e+00],\n",
       "        [  2.33400000e+00,   9.92700000e+00,   2.51500000e+00],\n",
       "        [  3.56900000e+00,   1.12430000e+01,   9.68000000e-01]]),\n",
       " 1: array([[  0.301     ,   5.09499979,   3.48099995],\n",
       "        [  1.21800005,   5.14300013,   3.05999994],\n",
       "        [  0.067     ,   4.16699982,   3.8039999 ],\n",
       "        ..., \n",
       "        [ -2.02200007, -14.44799995,  -0.065     ],\n",
       "        [ -1.24600005, -15.06400013,   1.46700001],\n",
       "        [ -3.01799989, -15.0539999 ,   1.08299994]])}"
      ]
     },
     "execution_count": 10,
     "metadata": {},
     "output_type": "execute_result"
    }
   ],
   "source": [
    "view.coordinates_dict"
   ]
  }
 ],
 "metadata": {
  "kernelspec": {
   "display_name": "Python 3",
   "language": "python",
   "name": "python3"
  },
  "language_info": {
   "codemirror_mode": {
    "name": "ipython",
    "version": 3
   },
   "file_extension": ".py",
   "mimetype": "text/x-python",
   "name": "python",
   "nbconvert_exporter": "python",
   "pygments_lexer": "ipython3",
   "version": "3.5.1"
  }
 },
 "nbformat": 4,
 "nbformat_minor": 0
}
