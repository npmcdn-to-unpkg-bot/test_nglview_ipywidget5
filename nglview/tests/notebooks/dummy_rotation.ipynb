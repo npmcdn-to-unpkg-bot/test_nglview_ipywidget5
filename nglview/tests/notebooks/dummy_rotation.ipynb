{
 "cells": [
  {
   "cell_type": "code",
   "execution_count": 1,
   "metadata": {
    "collapsed": false
   },
   "outputs": [],
   "source": [
    "import pytraj as pt\n",
    "import nglview as nv\n",
    "\n",
    "traj = pt.datafiles.load_tz2()\n",
    "view = nv.show_pytraj(traj)\n",
    "view"
   ]
  },
  {
   "cell_type": "code",
   "execution_count": 2,
   "metadata": {
    "collapsed": false
   },
   "outputs": [],
   "source": [
    "view.orientation = [[3.0755822580984025, 19.513968427816007, -31.49494502383464],\n",
    " [-0.9557670904275323, -0.21171180252311658, -0.2041748797675872],\n",
    " [0.3269999027252197, 1.0344996452331543, 0.6119999885559082],\n",
    " [-0.15432795479823874, 1.099630452710352, 2.7187377732537983]]"
   ]
  },
  {
   "cell_type": "code",
   "execution_count": 3,
   "metadata": {
    "collapsed": true
   },
   "outputs": [],
   "source": [
    "view.clear_representations()\n",
    "view.add_licorice('not hydrogen')\n",
    "view.add_rope()"
   ]
  },
  {
   "cell_type": "code",
   "execution_count": 4,
   "metadata": {
    "collapsed": false
   },
   "outputs": [],
   "source": [
    "from time import sleep\n",
    "\n",
    "t0 = traj[0]\n",
    "t0.top = traj.top\n",
    "\n",
    "for rot in list(range(0, 360, 10)):\n",
    "    pt.set_dihedral(t0, 6, 'psi', rot)\n",
    "    view.coordinates_dict = {0: t0.xyz}\n",
    "    \n",
    "    sleep(0.08)"
   ]
  }
 ],
 "metadata": {
  "kernelspec": {
   "display_name": "Python 3",
   "language": "python",
   "name": "python3"
  },
  "language_info": {
   "codemirror_mode": {
    "name": "ipython",
    "version": 3
   },
   "file_extension": ".py",
   "mimetype": "text/x-python",
   "name": "python",
   "nbconvert_exporter": "python",
   "pygments_lexer": "ipython3",
   "version": "3.5.1"
  }
 },
 "nbformat": 4,
 "nbformat_minor": 0
}
