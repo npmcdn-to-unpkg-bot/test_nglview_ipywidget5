{
 "cells": [
  {
   "cell_type": "code",
   "execution_count": 10,
   "metadata": {
    "collapsed": true
   },
   "outputs": [],
   "source": [
    "import pytraj as pt, nglview as nv\n",
    "import numpy as np"
   ]
  },
  {
   "cell_type": "code",
   "execution_count": 11,
   "metadata": {
    "collapsed": false
   },
   "outputs": [
    {
     "name": "stdout",
     "output_type": "stream",
     "text": [
      "--2016-06-13 13:32:51--  http://ambermd.org/tutorials/advanced/tutorial16/include/DOPC_128.inpcrd\n",
      "Resolving ambermd.org... 165.230.17.132\n",
      "Connecting to ambermd.org|165.230.17.132|:80... connected.\n",
      "HTTP request sent, awaiting response... 200 OK\n",
      "Length: 1163786 (1.1M) [text/plain]\n",
      "Saving to: 'DOPC_128.inpcrd.1'\n",
      "\n",
      "DOPC_128.inpcrd.1   100%[===================>]   1.11M  --.-KB/s    in 0.08s   \n",
      "\n",
      "2016-06-13 13:32:52 (14.8 MB/s) - 'DOPC_128.inpcrd.1' saved [1163786/1163786]\n",
      "\n",
      "--2016-06-13 13:32:52--  http://ambermd.org/tutorials/advanced/tutorial16/include/DOPC_128.prmtop\n",
      "Resolving ambermd.org... 165.230.17.132\n",
      "Connecting to ambermd.org|165.230.17.132|:80... connected.\n",
      "HTTP request sent, awaiting response... 200 OK\n",
      "Length: 9388148 (9.0M) [text/plain]\n",
      "Saving to: 'DOPC_128.prmtop.1'\n",
      "\n",
      "DOPC_128.prmtop.1   100%[===================>]   8.95M  15.9MB/s    in 0.6s    \n",
      "\n",
      "2016-06-13 13:32:52 (15.9 MB/s) - 'DOPC_128.prmtop.1' saved [9388148/9388148]\n",
      "\n"
     ]
    }
   ],
   "source": [
    "!wget http://ambermd.org/tutorials/advanced/tutorial16/include/DOPC_128.inpcrd\n",
    "!wget http://ambermd.org/tutorials/advanced/tutorial16/include/DOPC_128.prmtop\n",
    "traj = pt.load('DOPC_128.inpcrd', 'DOPC_128.prmtop')"
   ]
  },
  {
   "cell_type": "code",
   "execution_count": 12,
   "metadata": {
    "collapsed": false
   },
   "outputs": [],
   "source": [
    "view = nv.show_pytraj(traj)\n",
    "view.clear_representations()\n",
    "view"
   ]
  },
  {
   "cell_type": "code",
   "execution_count": 13,
   "metadata": {
    "collapsed": true
   },
   "outputs": [],
   "source": [
    "view.clear_representations()\n",
    "view.add_line('not water and not hydrogen')"
   ]
  },
  {
   "cell_type": "code",
   "execution_count": 14,
   "metadata": {
    "collapsed": false,
    "scrolled": true
   },
   "outputs": [
    {
     "data": {
      "text/plain": [
       "pytraj.Trajectory, 1 frames: \n",
       "Size: 0.000713 (GB)\n",
       "<Topology: 31882 atoms, 5130 residues, 4874 mols, PBC with box type = ortho>\n",
       "           "
      ]
     },
     "execution_count": 14,
     "metadata": {},
     "output_type": "execute_result"
    }
   ],
   "source": [
    "traj"
   ]
  },
  {
   "cell_type": "code",
   "execution_count": 15,
   "metadata": {
    "collapsed": true
   },
   "outputs": [],
   "source": [
    "from time import time\n",
    "xyz = traj[0].xyz.astype('f4')"
   ]
  },
  {
   "cell_type": "markdown",
   "metadata": {},
   "source": [
    "# Send bytes"
   ]
  },
  {
   "cell_type": "code",
   "execution_count": 16,
   "metadata": {
    "collapsed": false
   },
   "outputs": [],
   "source": [
    "mytime = time()*1000\n",
    "\n",
    "binary = xyz.tobytes()\n",
    "\n",
    "data_meta = {'0': dict(data=0, dtype='f4', shape=xyz.shape)}\n",
    "\n",
    "d = dict(type='binary_single', mytime=mytime, data=data_meta)\n",
    "view.send(d, buffers=[binary])"
   ]
  },
  {
   "cell_type": "markdown",
   "metadata": {},
   "source": [
    "# Send base64"
   ]
  },
  {
   "cell_type": "code",
   "execution_count": 17,
   "metadata": {
    "collapsed": false
   },
   "outputs": [],
   "source": [
    "mytime = time()*1000\n",
    "\n",
    "data_base64 = {'0': dict(data=nv.encode_base64(xyz, dtype='f4'), \n",
    "                  dtype='f4',\n",
    "                  shape=xyz.shape)}\n",
    "\n",
    "d = dict(type='base64_single', mytime2=mytime, data=data_base64)\n",
    "\n",
    "view.send(d)"
   ]
  },
  {
   "cell_type": "markdown",
   "metadata": {},
   "source": [
    "# make sure we send the same array"
   ]
  },
  {
   "cell_type": "code",
   "execution_count": 18,
   "metadata": {
    "collapsed": false
   },
   "outputs": [],
   "source": [
    "from pytraj.testing import aa_eq\n",
    "\n",
    "xyz_from_bytes = np.frombuffer(binary, dtype='f4').reshape(xyz.shape)\n",
    "xyz_from_base64 = nv.decode_base64(data_base64['0']['data'], shape=xyz.shape,\n",
    "                                  dtype='f4')\n",
    "\n",
    "aa_eq(xyz_from_bytes, xyz_from_base64)"
   ]
  }
 ],
 "metadata": {
  "kernelspec": {
   "display_name": "Python 3",
   "language": "python",
   "name": "python3"
  },
  "language_info": {
   "codemirror_mode": {
    "name": "ipython",
    "version": 3
   },
   "file_extension": ".py",
   "mimetype": "text/x-python",
   "name": "python",
   "nbconvert_exporter": "python",
   "pygments_lexer": "ipython3",
   "version": "3.5.1"
  }
 },
 "nbformat": 4,
 "nbformat_minor": 0
}
