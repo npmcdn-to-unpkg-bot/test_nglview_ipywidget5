{
 "cells": [
  {
   "cell_type": "code",
   "execution_count": 1,
   "metadata": {
    "collapsed": false
   },
   "outputs": [],
   "source": [
    "import nglview as nv, pytraj as pt\n",
    "\n",
    "traj = pt.datafiles.load_trpcage()\n",
    "view = nv.show_pytraj(traj)\n",
    "view"
   ]
  },
  {
   "cell_type": "code",
   "execution_count": 2,
   "metadata": {
    "collapsed": true
   },
   "outputs": [],
   "source": [
    "view.parameters = {'quality': 'high'}"
   ]
  },
  {
   "cell_type": "code",
   "execution_count": 5,
   "metadata": {
    "collapsed": false
   },
   "outputs": [],
   "source": [
    "params = dict(type='get',\n",
    "             data='parameters')\n",
    "view.send(params)"
   ]
  },
  {
   "cell_type": "code",
   "execution_count": 6,
   "metadata": {
    "collapsed": false
   },
   "outputs": [
    {
     "data": {
      "text/plain": [
       "{'ambientColor': {'type': 'color', 'value': 14540253},\n",
       " 'ambientIntensity': {'max': 10,\n",
       "  'min': 0,\n",
       "  'precision': 2,\n",
       "  'type': 'number',\n",
       "  'value': 0.2},\n",
       " 'clipDist': {'max': 200,\n",
       "  'min': 0,\n",
       "  'precision': 0,\n",
       "  'type': 'number',\n",
       "  'value': 10},\n",
       " 'clipFar': {'max': 100, 'min': 0, 'step': 1, 'type': 'range', 'value': 100},\n",
       " 'clipNear': {'max': 100, 'min': 0, 'step': 1, 'type': 'range', 'value': 0},\n",
       " 'fogFar': {'max': 100, 'min': 0, 'step': 1, 'type': 'range', 'value': 100},\n",
       " 'fogNear': {'max': 100, 'min': 0, 'step': 1, 'type': 'range', 'value': 50},\n",
       " 'impostor': {'type': 'boolean', 'value': True},\n",
       " 'lightColor': {'type': 'color', 'value': 14540253},\n",
       " 'lightIntensity': {'max': 10,\n",
       "  'min': 0,\n",
       "  'precision': 2,\n",
       "  'type': 'number',\n",
       "  'value': 1},\n",
       " 'overview': {'type': 'boolean', 'value': True},\n",
       " 'panSpeed': {'max': 10,\n",
       "  'min': 0,\n",
       "  'precision': 1,\n",
       "  'type': 'number',\n",
       "  'value': 0.8},\n",
       " 'quality': {'options': {'high': 'high', 'low': 'low', 'medium': 'medium'},\n",
       "  'type': 'select',\n",
       "  'value': 'high'},\n",
       " 'rotateSpeed': {'max': 10,\n",
       "  'min': 0,\n",
       "  'precision': 1,\n",
       "  'type': 'number',\n",
       "  'value': 2},\n",
       " 'theme': {'options': {'dark': 'dark', 'light': 'light'},\n",
       "  'type': 'select',\n",
       "  'value': 'light'},\n",
       " 'zoomSpeed': {'max': 10,\n",
       "  'min': 0,\n",
       "  'precision': 1,\n",
       "  'type': 'number',\n",
       "  'value': 1.2}}"
      ]
     },
     "execution_count": 6,
     "metadata": {},
     "output_type": "execute_result"
    }
   ],
   "source": [
    "view._ngl_msg"
   ]
  },
  {
   "cell_type": "code",
   "execution_count": 7,
   "metadata": {
    "collapsed": true
   },
   "outputs": [],
   "source": [
    "view.render_image()"
   ]
  }
 ],
 "metadata": {
  "kernelspec": {
   "display_name": "Python 3",
   "language": "python",
   "name": "python3"
  },
  "language_info": {
   "codemirror_mode": {
    "name": "ipython",
    "version": 3
   },
   "file_extension": ".py",
   "mimetype": "text/x-python",
   "name": "python",
   "nbconvert_exporter": "python",
   "pygments_lexer": "ipython3",
   "version": "3.5.1"
  }
 },
 "nbformat": 4,
 "nbformat_minor": 0
}
