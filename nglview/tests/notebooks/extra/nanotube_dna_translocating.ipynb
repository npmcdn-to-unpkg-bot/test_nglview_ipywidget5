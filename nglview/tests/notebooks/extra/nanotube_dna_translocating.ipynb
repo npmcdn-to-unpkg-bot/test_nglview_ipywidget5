{
 "cells": [
  {
   "cell_type": "code",
   "execution_count": 12,
   "metadata": {
    "collapsed": false
   },
   "outputs": [
    {
     "name": "stdout",
     "output_type": "stream",
     "text": [
      "pytraj.TrajectoryIterator, 31 frames: \n",
      "Size: 0.135101 (GB)\n",
      "<Topology: 194978 atoms, 47970 residues, 0 mols, non-PBC>\n",
      "           \n"
     ]
    }
   ],
   "source": [
    "import pytraj as pt\n",
    "# http://www.ks.uiuc.edu/Training/Tutorials/nanobio/bionano-tutorial-files/example-output/7_translocate/\n",
    "\n",
    "traj = pt.iterload('./translocate.dcd', './translocate.pdb')\n",
    "print(traj)"
   ]
  },
  {
   "cell_type": "code",
   "execution_count": 13,
   "metadata": {
    "collapsed": true
   },
   "outputs": [],
   "source": [
    "view = traj.view()\n",
    "view"
   ]
  },
  {
   "cell_type": "code",
   "execution_count": 24,
   "metadata": {
    "collapsed": true
   },
   "outputs": [],
   "source": [
    "view.clear()\n",
    "view.add_licorice('nucleic and not hydrogen')\n",
    "view.add_line('not nucleic and not TIP', color='grey', opacity=0.3)"
   ]
  },
  {
   "cell_type": "code",
   "execution_count": 27,
   "metadata": {
    "collapsed": false
   },
   "outputs": [],
   "source": [
    "view.player.delay = 200"
   ]
  }
 ],
 "metadata": {
  "kernelspec": {
   "display_name": "Python 3",
   "language": "python",
   "name": "python3"
  },
  "language_info": {
   "codemirror_mode": {
    "name": "ipython",
    "version": 3
   },
   "file_extension": ".py",
   "mimetype": "text/x-python",
   "name": "python",
   "nbconvert_exporter": "python",
   "pygments_lexer": "ipython3",
   "version": "3.5.1"
  }
 },
 "nbformat": 4,
 "nbformat_minor": 0
}
