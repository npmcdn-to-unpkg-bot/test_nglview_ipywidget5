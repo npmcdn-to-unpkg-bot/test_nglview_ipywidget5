{
 "cells": [
  {
   "cell_type": "code",
   "execution_count": 1,
   "metadata": {
    "collapsed": false
   },
   "outputs": [],
   "source": [
    "import nglview as nv\n",
    "from nglview.utils import get_colors_from_b64"
   ]
  },
  {
   "cell_type": "code",
   "execution_count": 2,
   "metadata": {
    "collapsed": false
   },
   "outputs": [],
   "source": [
    "text = \"\"\"\n",
    "CRYST1   35.263   41.846   36.169  90.00  90.00  90.00               1\n",
    "ATOM      1  N   SER     1      15.555  28.548  17.189  1.00  0.00           N  \n",
    "ATOM      2  H1  SER     1      16.206  29.079  17.750  1.00  0.00           H  \n",
    "ATOM      3  H2  SER     1      14.951  29.277  16.835  1.00  0.00           H  \n",
    "ATOM      4  H3  SER     1      15.997  28.070  16.418  1.00  0.00           H  \n",
    "ATOM      5  CA  SER     1      14.879  27.639  18.088  1.00  0.00           C  \n",
    "ATOM      6  HA  SER     1      14.504  28.238  18.918  1.00  0.00           H  \n",
    "ATOM      7  CB  SER     1      13.618  27.053  17.436  1.00  0.00           C  \n",
    "ATOM      8  HB2 SER     1      13.935  26.243  16.780  1.00  0.00           H  \n",
    "ATOM      9  HB3 SER     1      12.871  26.771  18.178  1.00  0.00           H  \n",
    "ATOM     10  OG  SER     1      12.971  27.952  16.528  1.00  0.00           O  \n",
    "ATOM     11  HG  SER     1      12.358  27.426  16.010  1.00  0.00           H  \n",
    "ATOM     12  C   SER     1      15.708  26.536  18.664  1.00  0.00           C  \n",
    "ATOM     13  O   SER     1      16.854  26.377  18.170  1.00  0.00           O  \n",
    "\"\"\"\n",
    "\n",
    "view = nv.show_text(text)"
   ]
  },
  {
   "cell_type": "code",
   "execution_count": 3,
   "metadata": {
    "collapsed": true
   },
   "outputs": [],
   "source": [
    "view"
   ]
  },
  {
   "cell_type": "code",
   "execution_count": 4,
   "metadata": {
    "collapsed": true
   },
   "outputs": [],
   "source": [
    "view.add_licorice()"
   ]
  },
  {
   "cell_type": "code",
   "execution_count": 5,
   "metadata": {
    "collapsed": true
   },
   "outputs": [],
   "source": [
    "view.render_image()"
   ]
  },
  {
   "cell_type": "code",
   "execution_count": 6,
   "metadata": {
    "collapsed": true
   },
   "outputs": [],
   "source": [
    "colors = get_colors_from_b64(view._image_data)\n",
    "\n",
    "assert len(colors) > 1000"
   ]
  }
 ],
 "metadata": {
  "kernelspec": {
   "display_name": "Python 3",
   "language": "python",
   "name": "python3"
  },
  "language_info": {
   "codemirror_mode": {
    "name": "ipython",
    "version": 3
   },
   "file_extension": ".py",
   "mimetype": "text/x-python",
   "name": "python",
   "nbconvert_exporter": "python",
   "pygments_lexer": "ipython3",
   "version": "3.5.1"
  }
 },
 "nbformat": 4,
 "nbformat_minor": 0
}
