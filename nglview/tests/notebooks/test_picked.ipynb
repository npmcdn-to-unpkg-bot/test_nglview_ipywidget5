{
 "cells": [
  {
   "cell_type": "code",
   "execution_count": 1,
   "metadata": {
    "collapsed": true
   },
   "outputs": [],
   "source": [
    "import nglview as nv\n",
    "\n",
    "view = nv.show_structure_file('../data/tz2.pdb')\n",
    "view"
   ]
  },
  {
   "cell_type": "code",
   "execution_count": 3,
   "metadata": {
    "collapsed": false
   },
   "outputs": [
    {
     "data": {
      "text/plain": [
       "{'atom': {'altloc': '',\n",
       "  'atomname': 'CA',\n",
       "  'bfactor': 0,\n",
       "  'chainname': 'A',\n",
       "  'covalent': 0.76,\n",
       "  'element': 'C',\n",
       "  'hetero': 0,\n",
       "  'index': 47772,\n",
       "  'residueIndex': 15344,\n",
       "  'resname': 'TRP',\n",
       "  'resno': 9,\n",
       "  'serial': 136,\n",
       "  'vdw': 1.7,\n",
       "  'x': 19.72100067138672,\n",
       "  'y': 20.15399932861328,\n",
       "  'z': 20.988000869750977}}"
      ]
     },
     "execution_count": 3,
     "metadata": {},
     "output_type": "execute_result"
    }
   ],
   "source": [
    "view.picked"
   ]
  }
 ],
 "metadata": {
  "kernelspec": {
   "display_name": "Python 3",
   "language": "python",
   "name": "python3"
  },
  "language_info": {
   "codemirror_mode": {
    "name": "ipython",
    "version": 3
   },
   "file_extension": ".py",
   "mimetype": "text/x-python",
   "name": "python",
   "nbconvert_exporter": "python",
   "pygments_lexer": "ipython3",
   "version": "3.5.1"
  }
 },
 "nbformat": 4,
 "nbformat_minor": 0
}
