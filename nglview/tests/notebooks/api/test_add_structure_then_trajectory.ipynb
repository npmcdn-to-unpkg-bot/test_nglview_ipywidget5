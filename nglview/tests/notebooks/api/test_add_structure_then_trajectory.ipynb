{
 "cells": [
  {
   "cell_type": "code",
   "execution_count": 2,
   "metadata": {
    "collapsed": false
   },
   "outputs": [],
   "source": [
    "import nglview as nv\n",
    "import pytraj as pt\n",
    "\n",
    "view = nv.show_structure_file('../../data/tz2.pdb')\n",
    "view.clear_representations()\n",
    "view.add_licorice('not water and not hydrogen')\n",
    "view"
   ]
  },
  {
   "cell_type": "code",
   "execution_count": 3,
   "metadata": {
    "collapsed": true
   },
   "outputs": [],
   "source": [
    "view.orientation = [[9.354520935192827, -2.3655150200266704, -13.4655753376256],\n",
    "                    [-0.04259063566544177, 0.9785635054192603, -0.2014931850340959],\n",
    "                    [-17.54050087928772, -21.045500427484512, -18.081999480724335],\n",
    "                    [0, 0, 0]]"
   ]
  },
  {
   "cell_type": "code",
   "execution_count": 4,
   "metadata": {
    "collapsed": true
   },
   "outputs": [],
   "source": [
    "ntraj = nv.PyTrajTrajectory(pt.datafiles.load_trpcage())"
   ]
  },
  {
   "cell_type": "code",
   "execution_count": 5,
   "metadata": {
    "collapsed": false
   },
   "outputs": [],
   "source": [
    "view.add_trajectory(ntraj, default_representation=True)"
   ]
  }
 ],
 "metadata": {
  "kernelspec": {
   "display_name": "Python 3",
   "language": "python",
   "name": "python3"
  },
  "language_info": {
   "codemirror_mode": {
    "name": "ipython",
    "version": 3
   },
   "file_extension": ".py",
   "mimetype": "text/x-python",
   "name": "python",
   "nbconvert_exporter": "python",
   "pygments_lexer": "ipython3",
   "version": "3.5.1"
  }
 },
 "nbformat": 4,
 "nbformat_minor": 0
}
