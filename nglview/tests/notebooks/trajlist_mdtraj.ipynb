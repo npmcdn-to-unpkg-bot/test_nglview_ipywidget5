{
 "cells": [
  {
   "cell_type": "code",
   "execution_count": 5,
   "metadata": {
    "collapsed": false
   },
   "outputs": [],
   "source": [
    "import mdtraj as md\n",
    "from nglview import datafiles\n",
    "import nglview as nv\n",
    "\n",
    "traj0 = md.load('../data/tz2.pdb')\n",
    "# \n",
    "traj1 = md.load(datafiles.XTC, top=datafiles.PDB)\n",
    "\n",
    "trajlist = [nv.MDTrajTrajectory(traj) for traj in [traj0, traj1]]\n",
    "\n",
    "trajlist\n",
    "\n",
    "view = nv.NGLWidget(trajlist)\n",
    "view"
   ]
  },
  {
   "cell_type": "code",
   "execution_count": 6,
   "metadata": {
    "collapsed": false
   },
   "outputs": [],
   "source": [
    "# clear repr: trpcage\n",
    "view._clear_repr(component=1)"
   ]
  },
  {
   "cell_type": "code",
   "execution_count": 7,
   "metadata": {
    "collapsed": true
   },
   "outputs": [],
   "source": [
    "# clear repr: trpzip2\n",
    "view._clear_repr(component=0)"
   ]
  },
  {
   "cell_type": "code",
   "execution_count": 8,
   "metadata": {
    "collapsed": true
   },
   "outputs": [],
   "source": [
    "# try back: trpcage\n",
    "view.add_line(component=1)"
   ]
  },
  {
   "cell_type": "code",
   "execution_count": 9,
   "metadata": {
    "collapsed": true
   },
   "outputs": [],
   "source": [
    "# try back: trpzip2\n",
    "\n",
    "view.add_cartoon(color='residueindex')"
   ]
  }
 ],
 "metadata": {
  "kernelspec": {
   "display_name": "Python 3",
   "language": "python",
   "name": "python3"
  },
  "language_info": {
   "codemirror_mode": {
    "name": "ipython",
    "version": 3
   },
   "file_extension": ".py",
   "mimetype": "text/x-python",
   "name": "python",
   "nbconvert_exporter": "python",
   "pygments_lexer": "ipython3",
   "version": "3.5.1"
  }
 },
 "nbformat": 4,
 "nbformat_minor": 0
}
