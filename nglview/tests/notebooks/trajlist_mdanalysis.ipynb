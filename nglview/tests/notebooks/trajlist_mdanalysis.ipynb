{
 "cells": [
  {
   "cell_type": "code",
   "execution_count": 1,
   "metadata": {
    "collapsed": false
   },
   "outputs": [
    {
     "name": "stderr",
     "output_type": "stream",
     "text": [
      "/Users/haichit/miniconda/lib/python3.5/site-packages/MDAnalysis-0.15.1.dev0-py3.5-macosx-10.5-x86_64.egg/MDAnalysis/__init__.py:190: UserWarning: #####\n",
      "MDAnalysis on python 3 is highly experimental!\n",
      "It is mostly non functional and dramatically untested.\n",
      "Use at your own risks!!!\n",
      "\n",
      "  ''')\n",
      "/Users/haichit/miniconda/lib/python3.5/site-packages/jupyter_core/application.py:106: DeprecationWarning: metadata {'config': True} was set from the constructor.  Metadata should be set using the .tag() method, e.g., Int().tag(key1='value1', key2='value2')\n",
      "  help=\"\"\"Generate default config file.\"\"\"\n",
      "/Users/haichit/miniconda/lib/python3.5/site-packages/notebook/nbextensions.py:624: DeprecationWarning: metadata {'config': True} was set from the constructor.  Metadata should be set using the .tag() method, e.g., Int().tag(key1='value1', key2='value2')\n",
      "  user = Bool(False, config=True, help=\"Whether to do a user install\")\n",
      "/Users/haichit/miniconda/lib/python3.5/site-packages/notebook/nbextensions.py:133: DeprecationWarning: `install_nbextension`'s `verbose` parameter is deprecated, it will have no effects and will be removed in Notebook 5.0\n",
      "  warnings.warn(\"`install_nbextension`'s `verbose` parameter is deprecated, it will have no effects and will be removed in Notebook 5.0\", DeprecationWarning)\n",
      "/Users/haichit/miniconda/lib/python3.5/site-packages/notebook/services/config/manager.py:38: DeprecationWarning: ConfigManager._read_config_path_default is deprecated: use @default decorator instead.\n",
      "  def _read_config_path_default(self):\n",
      "/Users/haichit/miniconda/lib/python3.5/site-packages/notebook/services/config/manager.py:42: DeprecationWarning: ConfigManager._write_config_dir_default is deprecated: use @default decorator instead.\n",
      "  def _write_config_dir_default(self):\n",
      "/Users/haichit/miniconda/lib/python3.5/site-packages/notebook/services/config/manager.py:46: DeprecationWarning: ConfigManager._write_config_manager_default is deprecated: use @default decorator instead.\n",
      "  def _write_config_manager_default(self):\n",
      "/Users/haichit/miniconda/lib/python3.5/site-packages/ipywidgets/widgets/widget.py:157: DeprecationWarning: Widget._keys_default is deprecated: use @default decorator instead.\n",
      "  def _keys_default(self):\n",
      "/Users/haichit/miniconda/lib/python3.5/site-packages/ipykernel/comm/comm.py:52: DeprecationWarning: Comm._comm_id_default is deprecated: use @default decorator instead.\n",
      "  def _comm_id_default(self):\n",
      "/Users/haichit/miniconda/lib/python3.5/site-packages/ipykernel/comm/comm.py:29: DeprecationWarning: Comm._iopub_socket_default is deprecated: use @default decorator instead.\n",
      "  def _iopub_socket_default(self):\n",
      "/Users/haichit/miniconda/lib/python3.5/site-packages/ipykernel/comm/comm.py:24: DeprecationWarning: Comm._kernel_default is deprecated: use @default decorator instead.\n",
      "  def _kernel_default(self):\n",
      "/Users/haichit/miniconda/lib/python3.5/site-packages/ipykernel/comm/comm.py:32: DeprecationWarning: Comm._session_default is deprecated: use @default decorator instead.\n",
      "  def _session_default(self):\n",
      "/Users/haichit/miniconda/lib/python3.5/site-packages/ipykernel/comm/comm.py:41: DeprecationWarning: Comm._topic_default is deprecated: use @default decorator instead.\n",
      "  def _topic_default(self):\n",
      "/Users/haichit/miniconda/lib/python3.5/site-packages/ipywidgets/widgets/widget.py:194: DeprecationWarning: NGLWidget._comm_changed is deprecated: use @observe and @unobserve instead.\n",
      "  def _comm_changed(self, name, new):\n",
      "/Users/haichit/miniconda/lib/python3.5/site-packages/ipywidgets/widgets/widget.py:513: DeprecationWarning: on_trait_change is deprecated: use observe instead\n",
      "  self.on_trait_change(_validate_border, ['border_width', 'border_style', 'border_color'])\n"
     ]
    }
   ],
   "source": [
    "from MDAnalysis import Universe\n",
    "from nglview import datafiles\n",
    "import nglview as nv\n",
    "\n",
    "traj0 = Universe('../data/tz2.pdb')\n",
    "# \n",
    "traj1 = Universe(datafiles.PDB, datafiles.XTC)\n",
    "\n",
    "trajlist = [nv.MDAnalysisTrajectory(traj) for traj in [traj0, traj1]]\n",
    "\n",
    "trajlist\n",
    "\n",
    "view = nv.NGLWidget(trajlist)\n",
    "view"
   ]
  },
  {
   "cell_type": "code",
   "execution_count": 2,
   "metadata": {
    "collapsed": false
   },
   "outputs": [],
   "source": [
    "# clear repr: trpcage\n",
    "view._clear_repr(component=1)"
   ]
  },
  {
   "cell_type": "code",
   "execution_count": 3,
   "metadata": {
    "collapsed": true
   },
   "outputs": [],
   "source": [
    "# clear repr: trpzip2\n",
    "view._clear_repr(component=0)"
   ]
  },
  {
   "cell_type": "code",
   "execution_count": 4,
   "metadata": {
    "collapsed": true
   },
   "outputs": [],
   "source": [
    "# try back: trpcage\n",
    "view.add_line(component=1)"
   ]
  },
  {
   "cell_type": "code",
   "execution_count": 5,
   "metadata": {
    "collapsed": true
   },
   "outputs": [],
   "source": [
    "# try back: trpzip2\n",
    "\n",
    "view.add_cartoon(color='residueindex')"
   ]
  }
 ],
 "metadata": {
  "kernelspec": {
   "display_name": "Python 3",
   "language": "python",
   "name": "python3"
  },
  "language_info": {
   "codemirror_mode": {
    "name": "ipython",
    "version": 3
   },
   "file_extension": ".py",
   "mimetype": "text/x-python",
   "name": "python",
   "nbconvert_exporter": "python",
   "pygments_lexer": "ipython3",
   "version": "3.5.1"
  }
 },
 "nbformat": 4,
 "nbformat_minor": 0
}
