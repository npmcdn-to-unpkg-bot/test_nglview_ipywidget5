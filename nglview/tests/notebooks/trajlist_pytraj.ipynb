{
 "cells": [
  {
   "cell_type": "code",
   "execution_count": 1,
   "metadata": {
    "collapsed": false
   },
   "outputs": [],
   "source": [
    "import pytraj as pt\n",
    "import  nglview as nv\n",
    "\n",
    "traj0 = pt.datafiles.load_tz2()[:].center('origin')\n",
    "\n",
    "# \n",
    "traj1 = pt.datafiles.load_trpcage()[:].center('origin')\n",
    "\n",
    "trajlist = [nv.PyTrajTrajectory(traj) for traj in [traj0, traj1]]\n",
    "\n",
    "trajlist\n",
    "\n",
    "view = nv.NGLWidget(trajlist)\n",
    "view"
   ]
  },
  {
   "cell_type": "code",
   "execution_count": 2,
   "metadata": {
    "collapsed": false
   },
   "outputs": [
    {
     "data": {
      "text/plain": [
       "pytraj.Trajectory, 101 frames: \n",
       "Size: 0.000503 (GB)\n",
       "<Topology: 223 atoms, 13 residues, 1 mols, non-PBC>\n",
       "           "
      ]
     },
     "execution_count": 2,
     "metadata": {},
     "output_type": "execute_result"
    }
   ],
   "source": [
    "traj0.superpose(mask=':1-3', ref=traj1[:1])"
   ]
  },
  {
   "cell_type": "code",
   "execution_count": 3,
   "metadata": {
    "collapsed": false
   },
   "outputs": [],
   "source": [
    "# clear repr: trpcage\n",
    "view._clear_repr(component=1)"
   ]
  },
  {
   "cell_type": "code",
   "execution_count": 4,
   "metadata": {
    "collapsed": true
   },
   "outputs": [],
   "source": [
    "# clear repr: trpzip2\n",
    "view._clear_repr(component=0)"
   ]
  },
  {
   "cell_type": "code",
   "execution_count": 5,
   "metadata": {
    "collapsed": true
   },
   "outputs": [],
   "source": [
    "# try back: trpcage\n",
    "view.add_line(component=1)"
   ]
  },
  {
   "cell_type": "code",
   "execution_count": 6,
   "metadata": {
    "collapsed": true
   },
   "outputs": [],
   "source": [
    "# try back: trpzip2\n",
    "\n",
    "view.add_cartoon(color='residueindex')"
   ]
  },
  {
   "cell_type": "code",
   "execution_count": 8,
   "metadata": {
    "collapsed": false
   },
   "outputs": [],
   "source": [
    "assert isinstance(view.coordinates_dict, dict)"
   ]
  },
  {
   "cell_type": "markdown",
   "metadata": {},
   "source": [
    "# show_pytraj"
   ]
  },
  {
   "cell_type": "code",
   "execution_count": 9,
   "metadata": {
    "collapsed": false
   },
   "outputs": [],
   "source": [
    "view1 = nv.show_pytraj([traj0, traj1])\n",
    "view1"
   ]
  }
 ],
 "metadata": {
  "kernelspec": {
   "display_name": "Python 3",
   "language": "python",
   "name": "python3"
  },
  "language_info": {
   "codemirror_mode": {
    "name": "ipython",
    "version": 3
   },
   "file_extension": ".py",
   "mimetype": "text/x-python",
   "name": "python",
   "nbconvert_exporter": "python",
   "pygments_lexer": "ipython3",
   "version": "3.5.1"
  }
 },
 "nbformat": 4,
 "nbformat_minor": 0
}
